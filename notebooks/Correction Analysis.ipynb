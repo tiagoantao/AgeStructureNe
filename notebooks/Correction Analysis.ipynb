{
 "metadata": {
  "name": "",
  "signature": "sha256:fa98885b95c3d876530fe54047b4dba477151393228ea0aa401065eb165c1800"
 },
 "nbformat": 3,
 "nbformat_minor": 0,
 "worksheets": [
  {
   "cells": [
    {
     "cell_type": "code",
     "collapsed": false,
     "input": [
      "%matplotlib inline\n",
      "import pylab\n",
      "from collections import defaultdict"
     ],
     "language": "python",
     "metadata": {},
     "outputs": [],
     "prompt_number": ""
    },
    {
     "cell_type": "code",
     "collapsed": false,
     "input": [
      "colors = {\n",
      "    'WCT-S': 'r',\n",
      "    'WCT-F': 'g',\n",
      "    'BuPred': 'k',\n",
      "    'BuLong': 'm',\n",
      "    'BuTrout': 'y',\n",
      "}"
     ],
     "language": "python",
     "metadata": {},
     "outputs": [],
     "prompt_number": ""
    },
    {
     "cell_type": "code",
     "collapsed": false,
     "input": [
      "def read_table(f):\n",
      "    headers = f.readline().rstrip().split(' ')\n",
      "    for l in f:\n",
      "        toks = l.rstrip().split(' ')\n",
      "        yield dict(zip(headers, toks))"
     ],
     "language": "python",
     "metadata": {},
     "outputs": [],
     "prompt_number": ""
    },
    {
     "cell_type": "code",
     "collapsed": false,
     "input": [
      "def get_sampling(nsnps, ninds):\n",
      "    f = open('../output/table-ci-%d-%d.txt' % (nsnps, ninds))\n",
      "    nones = defaultdict(dict)\n",
      "    logquads = defaultdict(dict)\n",
      "    for rec in read_table(f):\n",
      "        if rec['Corr'] == 'None':\n",
      "            dict_ = nones\n",
      "        elif rec['Corr'] == 'LogQuad':\n",
      "            dict_ = logquads\n",
      "        else:\n",
      "            continue\n",
      "        dict_[rec['Model']][int(rec['Nb'])] = float(rec['median'])\n",
      "    return nones, logquads\n",
      "\n",
      "\n",
      "def plot_sampling(nsnps, ninds, nones, logquads):\n",
      "    fig = pylab.figure(figsize=(20, 10)) \n",
      "    sp = fig.add_subplot(111)\n",
      "    sp.set_title(\"SNPs: %d / Inds: %d\" % (nsnps, ninds))\n",
      "    for name, char, dict_ in [('N', '.', nones), ('LQ', 'o', logquads)]:\n",
      "        for model, vals in dict_.items():\n",
      "            xs = []\n",
      "            ys = []\n",
      "            for x, y in vals.items():\n",
      "                if x < 10:\n",
      "                    continue\n",
      "                xs.append(x)\n",
      "                ys.append(abs(y - x) / x)\n",
      "            sp.plot(xs, ys, colors[model] + char, label='%s-%s' % (name, model))\n",
      "    xmin, xmax = sp.get_xlim()\n",
      "    sp.set_xlim(xmin, xmax + 0.2 * xmax)\n",
      "    sp.legend()"
     ],
     "language": "python",
     "metadata": {},
     "outputs": [],
     "prompt_number": ""
    },
    {
     "cell_type": "code",
     "collapsed": false,
     "input": [
      "nones, logquads = get_sampling(100, 25)\n",
      "plot_sampling(100, 25, nones, logquads)\n",
      "\n",
      "nones, logquads = get_sampling(100, 50)\n",
      "plot_sampling(100, 50, nones, logquads)\n",
      "\n",
      "nones, logquads = get_sampling(200, 50)\n",
      "plot_sampling(200, 50, nones, logquads)"
     ],
     "language": "python",
     "metadata": {},
     "outputs": [],
     "prompt_number": ""
    },
    {
     "cell_type": "code",
     "collapsed": false,
     "input": [],
     "language": "python",
     "metadata": {},
     "outputs": []
    }
   ],
   "metadata": {}
  }
 ]
}