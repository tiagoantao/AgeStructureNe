{
 "metadata": {
  "name": "",
  "signature": "sha256:cd85fc7492d7e5b5459ef429db9a380775a83fd2e9adac80f95dc0109f6fef37"
 },
 "nbformat": 3,
 "nbformat_minor": 0,
 "worksheets": [
  {
   "cells": [
    {
     "cell_type": "code",
     "collapsed": false,
     "input": [
      "import sys\n",
      "sys.path.append('..')"
     ],
     "language": "python",
     "metadata": {},
     "outputs": [],
     "prompt_number": 1
    },
    {
     "cell_type": "code",
     "collapsed": false,
     "input": [
      "import os\n",
      "\n",
      "import numpy as np\n",
      "from scipy import stats\n",
      "import matplotlib.pyplot as plt\n",
      "%matplotlib inline\n",
      "\n",
      "from trout import load_file, get_bname, Nbs"
     ],
     "language": "python",
     "metadata": {},
     "outputs": [],
     "prompt_number": 7
    },
    {
     "cell_type": "code",
     "collapsed": false,
     "input": [
      "os.chdir('..')\n",
      "pref = 'trt'\n",
      "case = load_file(pref)\n",
      "os.chdir('notebooks')"
     ],
     "language": "python",
     "metadata": {},
     "outputs": [],
     "prompt_number": 8
    },
    {
     "cell_type": "code",
     "collapsed": false,
     "input": [
      "ncase = case['Newb']\n",
      "nbs = []\n",
      "ests = []\n",
      "ratios = []\n",
      "for (model, N0), vals in ncase.items():\n",
      "    nb = Nbs[(model, N0)]\n",
      "    nbs.append(nb)\n",
      "    bname = get_bname(model)\n",
      "    est = stats.hmean(vals[(None, 50, 100, 'SNP')][0])\n",
      "    ests.append(est)\n",
      "    ratios.append(est / nb)\n",
      "    print(model, N0, est/nb)\n",
      "fig, ax = plt.subplots()\n",
      "ax.plot(nbs, ratios, '.')\n",
      "ax.set_ylim(1.0, 1.5)\n"
     ],
     "language": "python",
     "metadata": {},
     "outputs": [
      {
       "output_type": "stream",
       "stream": "stdout",
       "text": [
        "bullpred 387 1.0966434895\n",
        "bulltrout 180 1.04646624262\n",
        "bullt2 3050 1.1016332039\n",
        "bulltrout 90 1.11360403374\n",
        "fraley 641 1.10807998905\n",
        "bullt2 305 1.29869413387\n",
        "btrout 6476 0.855320370707\n",
        "bullt2 1830 1.14247231208\n",
        "restricted 90 1.09703212621\n",
        "wfrog 600 2.10825687338\n",
        "bullt2 4575 1.06534089539\n",
        "bullt2 610 1.28124543862\n",
        "bulltrout 722 1.06881522045\n",
        "bullt2 2440 1.10255666462\n",
        "shepard 1036 1.09873175499\n",
        "restricted 722 1.08112611542\n",
        "bullpred 775 1.09912253355\n",
        "bullt2 915 1.25720536429\n",
        "bullt2 1220 1.20489016564\n",
        "btrout 1619 0.847723134999\n",
        "bullpred 193 1.09960734177\n",
        "bulltrout 361 1.04399185631\n",
        "shepard 518 1.04428351955\n",
        "fraley 1282 1.07791991677\n",
        "bullt2 1525 1.14830306974\n",
        "restricted 180 1.07483740944\n",
        "bullt2 6100 1.05440078447\n",
        "mosquito 436 2.26152323954\n",
        "restricted 361 1.06899037225\n"
       ]
      },
      {
       "metadata": {},
       "output_type": "pyout",
       "prompt_number": 16,
       "text": [
        "(1.0, 1.5)"
       ]
      },
      {
       "metadata": {},
       "output_type": "display_data",
       "png": "[encoded data removed]",
       "text": [
        "<matplotlib.figure.Figure at 0x7f63d0ab8ba8>"
       ]
      }
     ],
     "prompt_number": 16
    },
    {
     "cell_type": "code",
     "collapsed": false,
     "input": [],
     "language": "python",
     "metadata": {},
     "outputs": [],
     "prompt_number": 4
    }
   ],
   "metadata": {}
  }
 ]
}