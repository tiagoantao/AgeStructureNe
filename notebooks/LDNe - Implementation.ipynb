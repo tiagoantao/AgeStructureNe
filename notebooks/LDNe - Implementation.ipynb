{
 "metadata": {
  "name": "",
  "signature": "sha256:548c87de6fa97d69637deeaf04bd52728383e44aabc66292fd7de87e60978799"
 },
 "nbformat": 3,
 "nbformat_minor": 0,
 "worksheets": [
  {
   "cells": [
    {
     "cell_type": "code",
     "collapsed": false,
     "input": [
      "from collections import defaultdict\n",
      "import statistics\n",
      "\n",
      "from scipy.stats import pearsonr\n",
      "\n",
      "from Bio.PopGen.GenePop.Controller import GenePopController\n",
      "\n",
      "from igrat.genetics.popgen.ldne.Controller import LDNeController\n",
      "from igrat.genetics.popgen import ldne\n",
      "from igrat.genetics.popgen import genepop"
     ],
     "language": "python",
     "metadata": {},
     "outputs": [],
     "prompt_number": ""
    },
    {
     "cell_type": "code",
     "collapsed": false,
     "input": [
      "ctrl = LDNeController()\n",
      "gp_ctrl = GenePopController()"
     ],
     "language": "python",
     "metadata": {},
     "outputs": [],
     "prompt_number": ""
    },
    {
     "cell_type": "code",
     "collapsed": false,
     "input": [
      "ctrl.run_ldne('test2.gp', 'test2.out')\n",
      "rec = ldne.parse(open('test2.out'))"
     ],
     "language": "python",
     "metadata": {},
     "outputs": [],
     "prompt_number": ""
    },
    {
     "cell_type": "code",
     "collapsed": false,
     "input": [
      "print(rec)"
     ],
     "language": "python",
     "metadata": {},
     "outputs": [],
     "prompt_number": ""
    },
    {
     "cell_type": "code",
     "collapsed": false,
     "input": [
      "gp_rec = genepop.read(open('test2.gp'))"
     ],
     "language": "python",
     "metadata": {},
     "outputs": [],
     "prompt_number": ""
    },
    {
     "cell_type": "code",
     "collapsed": false,
     "input": [
      "print(gp_rec)"
     ],
     "language": "python",
     "metadata": {},
     "outputs": [],
     "prompt_number": ""
    },
    {
     "cell_type": "code",
     "collapsed": false,
     "input": [
      "def get_allele_freqs(fname, pop):\n",
      "    popi, loci = gp_ctrl.calc_allele_genotype_freqs(fname)\n",
      "    freqs = []\n",
      "    for locus in loci:\n",
      "        freqs.append(locus[2][pop][1])\n",
      "    return freqs"
     ],
     "language": "python",
     "metadata": {},
     "outputs": [],
     "prompt_number": ""
    },
    {
     "cell_type": "code",
     "collapsed": false,
     "input": [
      "def get_pearson(gp_rec, pop, pcrit, freqs):\n",
      "    allowable_alleles = []\n",
      "    pearson = {}\n",
      "    for li, afreqs in enumerate(freqs):\n",
      "        pearson[li] = defaultdict(list)\n",
      "        locus_allowable = []\n",
      "        for a, freq in enumerate(afreqs):\n",
      "            if freq > pcrit and freq < 1.0:\n",
      "                locus_allowable.append(a + 1)\n",
      "        allowable_alleles.append(locus_allowable)\n",
      "        \n",
      "    inds = gp_rec.populations[pop]\n",
      "    #This would not work with missing data\n",
      "    for ind in inds:\n",
      "        genotype = ind[1]\n",
      "        for li, alls in enumerate(genotype):\n",
      "            alls = list(alls)\n",
      "            allow = allowable_alleles[li]\n",
      "            d = pearson[li]\n",
      "            for allele in allow:\n",
      "                d[allele].append(alls.count(allele))\n",
      "    return pearson"
     ],
     "language": "python",
     "metadata": {},
     "outputs": [],
     "prompt_number": ""
    },
    {
     "cell_type": "code",
     "collapsed": false,
     "input": [
      "for npop in range(1):\n",
      "    print(npop)\n",
      "    nes = []\n",
      "    freqs = get_allele_freqs('test2.gp', npop)\n",
      "    pearson = get_pearson(gp_rec, npop, 0.0, freqs)\n",
      "    loci = list(pearson.keys())\n",
      "    for l1 in range(len(loci) - 1):\n",
      "        for a1 in pearson[l1]:\n",
      "            s = len(pearson[l1][a1])\n",
      "            print(s)\n",
      "            for l2 in range(l1 +1, len(loci)):\n",
      "                for a2 in pearson[l2]:\n",
      "                    corr, p = pearsonr(pearson[l1][a1], pearson[l2][a2])\n",
      "                    scorr = corr * corr\n",
      "                    r2 = scorr - 1/(s-1)\n",
      "                    ne = 1 / (3 * (corr*corr - 1/s))\n",
      "                    print(corr, p, scorr, 1/(s-1), ne)\n",
      "                    nes.append(ne)\n",
      "    print(statistics.mean(nes))"
     ],
     "language": "python",
     "metadata": {},
     "outputs": [],
     "prompt_number": ""
    },
    {
     "cell_type": "code",
     "collapsed": false,
     "input": [],
     "language": "python",
     "metadata": {},
     "outputs": []
    }
   ],
   "metadata": {}
  }
 ]
}