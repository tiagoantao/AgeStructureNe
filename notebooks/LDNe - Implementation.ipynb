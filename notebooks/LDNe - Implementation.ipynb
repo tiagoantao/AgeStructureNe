{
 "metadata": {
  "name": "",
  "signature": "sha256:de3b1b1bdf5a20de9fa1d6c74a013ffd0c836f599fc27f67368123472d0a2888"
 },
 "nbformat": 3,
 "nbformat_minor": 0,
 "worksheets": [
  {
   "cells": [
    {
     "cell_type": "code",
     "collapsed": false,
     "input": [
      "from collections import defaultdict\n",
      "import math\n",
      "import statistics\n",
      "\n",
      "from scipy.stats import pearsonr, chi2\n",
      "\n",
      "from Bio.PopGen.GenePop.Controller import GenePopController\n",
      "\n",
      "from igrat.genetics.popgen.ldne.Controller import LDNeController\n",
      "from igrat.genetics.popgen import ldne\n",
      "from igrat.genetics.popgen import genepop"
     ],
     "language": "python",
     "metadata": {},
     "outputs": [],
     "prompt_number": ""
    },
    {
     "cell_type": "code",
     "collapsed": false,
     "input": [
      "ctrl = LDNeController()\n",
      "gp_ctrl = GenePopController()"
     ],
     "language": "python",
     "metadata": {},
     "outputs": [],
     "prompt_number": ""
    },
    {
     "cell_type": "code",
     "collapsed": false,
     "input": [
      "fname = 'test2'"
     ],
     "language": "python",
     "metadata": {},
     "outputs": [],
     "prompt_number": ""
    },
    {
     "cell_type": "code",
     "collapsed": false,
     "input": [
      "ctrl.run_ldne(fname + '.gp', fname + '.out')\n",
      "#rec = ldne.parse(open(fname + '.out'))\n",
      "gp_rec = genepop.read(open(fname + '.gp'))"
     ],
     "language": "python",
     "metadata": {},
     "outputs": [],
     "prompt_number": ""
    },
    {
     "cell_type": "code",
     "collapsed": false,
     "input": [
      "def get_allele_freqs(fname, pop):\n",
      "    popi, loci = gp_ctrl.calc_allele_genotype_freqs(fname)\n",
      "    freqs = []\n",
      "    for locus in loci:\n",
      "        freqs.append(locus[2][pop][1])\n",
      "    return freqs"
     ],
     "language": "python",
     "metadata": {},
     "outputs": [],
     "prompt_number": ""
    },
    {
     "cell_type": "code",
     "collapsed": false,
     "input": [
      "def get_pearson(gp_rec, pop, pcrit, freqs):\n",
      "    allowable_alleles = []\n",
      "    pearson = {}\n",
      "    for li, afreqs in enumerate(freqs):\n",
      "        pearson[li] = defaultdict(list)\n",
      "        locus_allowable = []\n",
      "        for a, freq in enumerate(afreqs):\n",
      "            if freq > pcrit and freq < 1.0 - pcrit:\n",
      "                locus_allowable.append(a + 1)\n",
      "        allowable_alleles.append(locus_allowable)\n",
      "        \n",
      "    inds = gp_rec.populations[pop]\n",
      "    #This would not work with missing data\n",
      "    for ind in inds:\n",
      "        genotype = ind[1]\n",
      "        for li, alls in enumerate(genotype):\n",
      "            alls = list(alls)\n",
      "            allow = allowable_alleles[li]\n",
      "            d = pearson[li]\n",
      "            for allele in allow:\n",
      "                d[allele].append(alls.count(allele))\n",
      "    return pearson"
     ],
     "language": "python",
     "metadata": {},
     "outputs": [],
     "prompt_number": ""
    },
    {
     "cell_type": "code",
     "collapsed": false,
     "input": [
      "for npop in range(len(gp_rec.populations)):\n",
      "    nes = []\n",
      "    rs = []\n",
      "    r2s = []\n",
      "    scorrs = []\n",
      "    freqs = get_allele_freqs(fname + '.gp', npop)\n",
      "    pearson = get_pearson(gp_rec, npop, 0.0, freqs)\n",
      "    loci = list(pearson.keys())\n",
      "    cmps = 0\n",
      "    for l1 in range(len(loci) - 1):       \n",
      "        for a1 in pearson[l1]:\n",
      "            s = len(pearson[l1][a1])\n",
      "            for l2 in range(l1 + 1, len(loci)):\n",
      "                for a2 in pearson[l2]:\n",
      "                    cmps += 1\n",
      "                    corr, p = pearsonr(pearson[l1][a1], pearson[l2][a2])\n",
      "                    scorr = corr * corr\n",
      "                    r2 = scorr - 1/(s-1)\n",
      "                    ne = 1 / (3 * (scorr - 1/s))\n",
      "                    print(33, corr, scorr, 1/(s-1), r2)\n",
      "                    rs.append(corr)\n",
      "                    r2s.append(r2)\n",
      "                    scorrs.append(scorr)\n",
      "                    break\n",
      "            break\n",
      "    mr2 = statistics.mean(r2s)\n",
      "    mscorr = statistics.mean(scorrs)\n",
      "    print(99, mr2, mscorr, mscorr - 1/(s-1), cmps, s, 1/(s-1))\n",
      "    \n",
      "    try:\n",
      "        print((1/3 + math.sqrt(1/9 - 2.76*mr2))/ (2 * mr2))\n",
      "        v2 = mscorr * s / (s-1)\n",
      "        print(v2, mscorr, mr2)\n",
      "        print((1/3 + math.sqrt(1/9 - 2.76*v2))/ (2 * v2))\n",
      "    except:\n",
      "        pass"
     ],
     "language": "python",
     "metadata": {},
     "outputs": [],
     "prompt_number": ""
    },
    {
     "cell_type": "code",
     "collapsed": false,
     "input": [
      "l=13\n",
      "df = l*(l-1)/2\n",
      "b=chi2.isf(0.025, df)\n",
      "print(b, df)\n",
      "(df*0.040388)/b"
     ],
     "language": "python",
     "metadata": {},
     "outputs": [],
     "prompt_number": ""
    },
    {
     "cell_type": "code",
     "collapsed": false,
     "input": [],
     "language": "python",
     "metadata": {},
     "outputs": []
    }
   ],
   "metadata": {}
  }
 ]
}