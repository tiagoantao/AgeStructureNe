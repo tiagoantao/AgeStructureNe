{
 "metadata": {
  "name": "",
  "signature": "sha256:186cd7f1296dfb037e0347346ac6e2926f0f6c99d166e3976f405c39eca72339"
 },
 "nbformat": 3,
 "nbformat_minor": 0,
 "worksheets": [
  {
   "cells": [
    {
     "cell_type": "code",
     "collapsed": false,
     "input": [
      "import bz2\n",
      "from collections import defaultdict"
     ],
     "language": "python",
     "metadata": {},
     "outputs": [],
     "prompt_number": 4
    },
    {
     "cell_type": "code",
     "collapsed": false,
     "input": [
      "N0 = 180\n",
      "model = 'bulltrout'\n",
      "reps = 20\n",
      "project = 'trout'\n",
      "start_cycle = 50"
     ],
     "language": "python",
     "metadata": {},
     "outputs": [],
     "prompt_number": 54
    },
    {
     "cell_type": "code",
     "collapsed": false,
     "input": [
      "def calc_sibs(parents):\n",
      "    nsibs = 0\n",
      "    ncomps = 0\n",
      "    inds = list(parents.keys())\n",
      "    for i in range(len(inds) - 1):\n",
      "        p1 = parents[inds[i]]\n",
      "        for j in range(i + 1, len(inds)):\n",
      "            ncomps += 1\n",
      "            p2 = parents[inds[j]]\n",
      "            if p1[0] in p2 or p1[1] in p2:\n",
      "                nsibs += 1\n",
      "    return ncomps, nsibs"
     ],
     "language": "python",
     "metadata": {},
     "outputs": [],
     "prompt_number": 55
    },
    {
     "cell_type": "code",
     "collapsed": false,
     "input": [
      "sibs = []\n",
      "unrel = []\n",
      "for rep in range(reps):\n",
      "    f = bz2.open('../data/%s/%d%s%d.sim.bz2' % (project, N0, model, rep), 'rt', encoding='utf8')\n",
      "    curr_cycle = 0\n",
      "    for l in f:\n",
      "        toks = l.rstrip().split(' ')\n",
      "        cycle, rep, ind, sex, father, mother, age = tuple([int(x) for x in toks])\n",
      "        if cycle < start_cycle:\n",
      "            continue\n",
      "        if cycle > curr_cycle:\n",
      "            if curr_cycle != 0:\n",
      "                comps, my_sibs = calc_sibs(parents)\n",
      "                sibs.append(my_sibs)\n",
      "                unrel.append(comps)\n",
      "            ninds = 0\n",
      "            parents = {}\n",
      "            curr_cycle = cycle\n",
      "        parents[ind] = father, mother\n",
      "        ninds += 1\n",
      "    comps, my_sibs = calc_sibs(parents)\n",
      "    sibs.append(my_sibs)\n",
      "    unrel.append(comps)\n",
      "    break"
     ],
     "language": "python",
     "metadata": {},
     "outputs": [],
     "prompt_number": 56
    },
    {
     "cell_type": "code",
     "collapsed": false,
     "input": [
      "print(comps, my_sibs, my_sibs / comps)"
     ],
     "language": "python",
     "metadata": {},
     "outputs": [
      {
       "output_type": "stream",
       "stream": "stdout",
       "text": [
        "57291 2826 0.04932711944284442\n"
       ]
      }
     ],
     "prompt_number": 57
    },
    {
     "cell_type": "code",
     "collapsed": false,
     "input": [
      "calc_cycle(fathers, mothers, both)"
     ],
     "language": "python",
     "metadata": {},
     "outputs": [
      {
       "metadata": {},
       "output_type": "pyout",
       "prompt_number": 43,
       "text": [
        "(574, 73)"
       ]
      }
     ],
     "prompt_number": 43
    },
    {
     "cell_type": "code",
     "collapsed": false,
     "input": [
      "print(ninds)"
     ],
     "language": "python",
     "metadata": {},
     "outputs": [
      {
       "output_type": "stream",
       "stream": "stdout",
       "text": [
        "671\n"
       ]
      }
     ],
     "prompt_number": 44
    },
    {
     "cell_type": "code",
     "collapsed": false,
     "input": [],
     "language": "python",
     "metadata": {},
     "outputs": []
    }
   ],
   "metadata": {}
  }
 ]
}